{
 "cells": [
  {
   "cell_type": "markdown",
   "metadata": {},
   "source": [
    "# 1.0 Dependencies"
   ]
  },
  {
   "cell_type": "code",
   "execution_count": 82,
   "metadata": {
    "collapsed": true
   },
   "outputs": [],
   "source": [
    "import seaborn as sns\n",
    "import matplotlib.pyplot as plt\n",
    "from sklearn import datasets\n",
    "import pandas as pd\n",
    "import numpy as np"
   ]
  },
  {
   "cell_type": "markdown",
   "metadata": {},
   "source": [
    "# 2.0 Defining functions and default figuresize parameters"
   ]
  },
  {
   "cell_type": "code",
   "execution_count": 83,
   "metadata": {
    "collapsed": true
   },
   "outputs": [],
   "source": [
    "plt.rcParams['figure.figsize'] = [10, 5]"
   ]
  },
  {
   "cell_type": "code",
   "execution_count": 84,
   "metadata": {
    "collapsed": true
   },
   "outputs": [],
   "source": [
    "def ecdf(data):\n",
    "    \"\"\"Generates an empirical cummulative distribution function for data\"\"\"\n",
    "    \n",
    "    # Calculate the number of observations\n",
    "    n=len(data)\n",
    "    \n",
    "    # Calculate the x data\n",
    "    x=np.sort(data)\n",
    "    \n",
    "    # Calculate an evenly distributed y axis and divide by the length to make it a percentage\n",
    "    # n+1 because the end value is not inclusive\n",
    "    # Note: its 'np.arange' and not np.arrange()\n",
    "    y=np.arange(1,n+1)/n\n",
    "    \n",
    "    return x,y"
   ]
  },
  {
   "cell_type": "markdown",
   "metadata": {},
   "source": [
    "# 3.0 Load the data"
   ]
  },
  {
   "cell_type": "code",
   "execution_count": 85,
   "metadata": {
    "collapsed": true
   },
   "outputs": [],
   "source": [
    "from sklearn.datasets import load_iris"
   ]
  },
  {
   "cell_type": "markdown",
   "metadata": {},
   "source": [
    "Check out victor Tong's answer from https://stackoverflow.com/questions/38105539/how-to-convert-a-scikit-learn-dataset-to-a-pandas-dataset on how to load this data into a pd.dataframe"
   ]
  },
  {
   "cell_type": "code",
   "execution_count": 86,
   "metadata": {},
   "outputs": [
    {
     "data": {
      "text/plain": [
       "0    1.4\n",
       "1    1.4\n",
       "2    1.3\n",
       "3    1.5\n",
       "4    1.4\n",
       "Name: petal length (cm), dtype: float64"
      ]
     },
     "execution_count": 86,
     "metadata": {},
     "output_type": "execute_result"
    }
   ],
   "source": [
    "#converting the data into a dataframe\n",
    "iris = load_iris()\n",
    "df= pd.DataFrame(data= np.c_[iris['data'], iris['target']],\n",
    "                 columns= iris['feature_names'] + ['target'])\n",
    "\n",
    "#adding categorical data\n",
    "df['species'] = pd.Categorical.from_codes(iris.target, iris.target_names)\n",
    "\n",
    "#creating versicolor dataframe\n",
    "#here we use a boolean variable to filter the whole dataframe\n",
    "versicolor=df[df['species']=='versicolor']\n",
    "#and then slice the dataframe for the petal length\n",
    "versicolor_petal_length=versicolor['petal length (cm)']\n",
    "versicolor_petal_width=versicolor['petal width (cm)']\n",
    "\n",
    "virginica=df[df['species']=='virginica']\n",
    "#and then slice the dataframe for the petal length\n",
    "virginica_petal_length=virginica['petal length (cm)']\n",
    "\n",
    "setosa=df[df['species']=='setosa']\n",
    "#and then slice the dataframe for the petal length\n",
    "setosa_petal_length=setosa['petal length (cm)']\n",
    "setosa_petal_length.head()"
   ]
  },
  {
   "cell_type": "code",
   "execution_count": 87,
   "metadata": {
    "collapsed": true
   },
   "outputs": [],
   "source": [
    "#set the plotting style\n",
    "sns.set()"
   ]
  },
  {
   "cell_type": "markdown",
   "metadata": {
    "collapsed": true
   },
   "source": [
    "# 4.0 Summary Statistics"
   ]
  },
  {
   "cell_type": "markdown",
   "metadata": {},
   "source": [
    "## 4.1 Computing the mean and median"
   ]
  },
  {
   "cell_type": "code",
   "execution_count": 88,
   "metadata": {},
   "outputs": [
    {
     "name": "stdout",
     "output_type": "stream",
     "text": [
      "Mean of versicolor: 4.26 cm\n",
      "Median of versicolor: 4.35 cm\n",
      "mean/median %: 98.0\n"
     ]
    }
   ],
   "source": [
    "mean_length_vers= np.mean(versicolor_petal_length)\n",
    "median_length_vers= np.median(versicolor_petal_length)\n",
    "# Print the result with some nice formatting\n",
    "print('Mean of versicolor:', mean_length_vers, 'cm')\n",
    "print('Median of versicolor:', median_length_vers, 'cm')\n",
    "print('mean/median %:', np.round(mean_length_vers/median_length_vers*100))"
   ]
  },
  {
   "cell_type": "markdown",
   "metadata": {},
   "source": [
    "In the case the mean and the median are close, however they are not the same which could indicate that the mean is affected by outliers, the distribution is asymmetric (\"Skewed left of right\" or has a \"tail\")"
   ]
  },
  {
   "cell_type": "markdown",
   "metadata": {},
   "source": [
    "## 4.2 Percentiles, outliers, and box plots"
   ]
  },
  {
   "cell_type": "code",
   "execution_count": 89,
   "metadata": {},
   "outputs": [
    {
     "data": {
      "text/plain": [
       "array([3.3   , 4.    , 4.35  , 4.6   , 4.9775])"
      ]
     },
     "execution_count": 89,
     "metadata": {},
     "output_type": "execute_result"
    }
   ],
   "source": [
    "#calculating the percentiles of versicolor_petal_length at the defined percentiles \"percentiles\"\n",
    "percentiles=np.array([2.5,25,50,75,97.5])\n",
    "v_percentiles=np.percentile(versicolor_petal_length,percentiles)\n",
    "v_percentiles"
   ]
  },
  {
   "cell_type": "markdown",
   "metadata": {},
   "source": [
    "### 4.2.1 Comparing percentiles to the ECDF"
   ]
  },
  {
   "cell_type": "code",
   "execution_count": 90,
   "metadata": {},
   "outputs": [
    {
     "data": {
      "image/png": "[encoded data removed]",
      "text/plain": [
       "<Figure size 720x360 with 1 Axes>"
      ]
     },
     "metadata": {},
     "output_type": "display_data"
    }
   ],
   "source": [
    "# use ecdf function to create edfc data\n",
    "x_vers, y_vers=ecdf(versicolor_petal_length)\n",
    "\n",
    "# Plot the ECDF\n",
    "_ = plt.plot(x_vers, y_vers, '.')\n",
    "_ = plt.xlabel('petal length (cm)')\n",
    "_ = plt.ylabel('ECDF')\n",
    "\n",
    "# Overlay percentiles as red diamonds.\n",
    "# percentiles/100 because you need to scale the percentiles to the same scale as the y-axis\n",
    "_ = plt.plot(v_percentiles, percentiles/100, marker='D', color='red',\n",
    "         linestyle='none')\n",
    "\n",
    "# Show the plot\n",
    "plt.show()"
   ]
  },
  {
   "cell_type": "markdown",
   "metadata": {},
   "source": [
    "### 4.2.2 Box plots"
   ]
  },
  {
   "cell_type": "code",
   "execution_count": 91,
   "metadata": {},
   "outputs": [
    {
     "name": "stderr",
     "output_type": "stream",
     "text": [
      "C:\\Users\\keaga\\Anaconda3\\lib\\site-packages\\seaborn\\categorical.py:462: FutureWarning: remove_na is deprecated and is a private function. Do not use.\n",
      "  box_data = remove_na(group_data)\n"
     ]
    },
    {
     "data": {
      "image/png": "[encoded data removed]",
      "text/plain": [
       "<Figure size 720x360 with 1 Axes>"
      ]
     },
     "metadata": {},
     "output_type": "display_data"
    }
   ],
   "source": [
    "# Create box plot with Seaborn's default settings\n",
    "_=sns.boxplot(x='species',y='petal length (cm)',data=df)\n",
    "\n",
    "# Label the axes\n",
    "_ = plt.xlabel('species')\n",
    "\n",
    "_ = plt.ylabel('petal length (cm)')\n",
    "\n",
    "\n",
    "# Show the plot\n",
    "plt.show()"
   ]
  },
  {
   "cell_type": "markdown",
   "metadata": {},
   "source": [
    "## 4.3 Variance and standard deviation"
   ]
  },
  {
   "cell_type": "markdown",
   "metadata": {},
   "source": [
    "Variance: the Mean of the squared distances of each of data from the data's mean (An informal measure of a data spread)  "
   ]
  },
  {
   "cell_type": "code",
   "execution_count": 92,
   "metadata": {},
   "outputs": [
    {
     "data": {
      "text/plain": [
       "0.21640000000000012"
      ]
     },
     "execution_count": 92,
     "metadata": {},
     "output_type": "execute_result"
    }
   ],
   "source": [
    "np.var(versicolor_petal_length)"
   ]
  },
  {
   "cell_type": "markdown",
   "metadata": {},
   "source": [
    "The standard deviation is the square root of the variance, we can calculate this directly or by sqrting the result"
   ]
  },
  {
   "cell_type": "code",
   "execution_count": 93,
   "metadata": {},
   "outputs": [
    {
     "data": {
      "text/plain": [
       "0.4651881339845204"
      ]
     },
     "execution_count": 93,
     "metadata": {},
     "output_type": "execute_result"
    }
   ],
   "source": [
    "np.std(versicolor_petal_length)"
   ]
  },
  {
   "cell_type": "code",
   "execution_count": 94,
   "metadata": {},
   "outputs": [
    {
     "data": {
      "text/plain": [
       "0.4651881339845204"
      ]
     },
     "execution_count": 94,
     "metadata": {},
     "output_type": "execute_result"
    }
   ],
   "source": [
    "np.sqrt(np.var(versicolor_petal_length))"
   ]
  },
  {
   "cell_type": "markdown",
   "metadata": {},
   "source": [
    "Calculating the varience manually:  \n",
    " * Create an array of differences between data to the mean  \n",
    " * Square the differences  \n",
    " * Compute the mean of these squares  \n",
    " * Check how correct by using np.var  "
   ]
  },
  {
   "cell_type": "code",
   "execution_count": 95,
   "metadata": {
    "collapsed": true
   },
   "outputs": [],
   "source": [
    "diff_array=versicolor_petal_length-np.mean(versicolor_petal_length)"
   ]
  },
  {
   "cell_type": "code",
   "execution_count": 96,
   "metadata": {},
   "outputs": [],
   "source": [
    "sqr=diff_array**2"
   ]
  },
  {
   "cell_type": "code",
   "execution_count": 97,
   "metadata": {},
   "outputs": [
    {
     "name": "stdout",
     "output_type": "stream",
     "text": [
      "0.21640000000000012 0.21640000000000012\n"
     ]
    }
   ],
   "source": [
    "variance_manual=np.mean(sqr)\n",
    "variance_numpy=np.var(versicolor_petal_length)\n",
    "print(variance_manual,variance_numpy)"
   ]
  },
  {
   "cell_type": "code",
   "execution_count": 98,
   "metadata": {
    "scrolled": true
   },
   "outputs": [
    {
     "data": {
      "image/png": "[encoded data removed]",
      "text/plain": [
       "<Figure size 720x360 with 1 Axes>"
      ]
     },
     "metadata": {},
     "output_type": "display_data"
    }
   ],
   "source": [
    "# Make a scatter plot\n",
    "_=plt.plot(versicolor_petal_length,versicolor_petal_width,marker='.',linestyle='none')\n",
    "\n",
    "# Label the axes\n",
    "_ = plt.xlabel('versicolor_petal_length')\n",
    "_ = plt.ylabel('versicolor_petal_width')\n",
    "\n",
    "\n",
    "# Show the result\n",
    "plt.show()"
   ]
  },
  {
   "cell_type": "markdown",
   "metadata": {},
   "source": [
    "## 4.4 Covariance"
   ]
  },
  {
   "cell_type": "markdown",
   "metadata": {},
   "source": [
    "Covariance is a measure of the joint variability of two random variables  \n",
    "\n",
    "The sign of the covariance shows the tendency in the linear relationship between the variables\n",
    "\n",
    "The magnitude of the covariance is not easy to interpret because it is not normalized and hence depends on the magnitudes of the variables"
   ]
  },
  {
   "cell_type": "code",
   "execution_count": 99,
   "metadata": {},
   "outputs": [
    {
     "name": "stdout",
     "output_type": "stream",
     "text": [
      "[[0.22081633 0.07310204]\n",
      " [0.07310204 0.03910612]]\n",
      "0.07310204081632653\n"
     ]
    }
   ],
   "source": [
    "# Compute the covariance matrix: covariance_matrix\n",
    "covariance_matrix=np.cov(versicolor_petal_length,versicolor_petal_width)\n",
    "\n",
    "# Print covariance matrix\n",
    "print(covariance_matrix)\n",
    "\n",
    "# Extract covariance of length and width of petals: petal_cov\n",
    "petal_cov=covariance_matrix[1,0]\n",
    "\n",
    "# Print the length/width covariance\n",
    "print(petal_cov)"
   ]
  },
  {
   "cell_type": "markdown",
   "metadata": {},
   "source": [
    "Directly from the datacamp tutorial \"np.cov(x, y) returns a 2D array where entries [0,1] and [1,0] are the covariances. Entry [0,0] is the variance of the data in x, and entry [1,1] is the variance of the data in y. This 2D output array is called the covariance matrix, since it organizes the self- and covariance.\"  \n",
    "https://campus.datacamp.com/courses/statistical-thinking-in-python-part-1/quantitative-exploratory-data-analysis?ex=14"
   ]
  },
  {
   "cell_type": "markdown",
   "metadata": {
    "collapsed": true
   },
   "source": [
    "# 5.0 Pearson correlation coefficient"
   ]
  },
  {
   "cell_type": "markdown",
   "metadata": {},
   "source": [
    "The normalized version of the covariance, the correlation coefficient, however, shows by its magnitude the strength of the linear relation\n",
    "\n",
    "* rho= Pearson correlation coefficient = covariance_xy /(std_x*std_y)\n",
    "* rho=variability due to codependence / independent variability"
   ]
  },
  {
   "cell_type": "code",
   "execution_count": 100,
   "metadata": {
    "collapsed": true
   },
   "outputs": [],
   "source": [
    "def pearson_r(x, y):\n",
    "    \"\"\"Compute Pearson correlation coefficient between two arrays.\"\"\"\n",
    "    # Compute correlation matrix: corr_mat\n",
    "    corr_mat=np.corrcoef(x,y)\n",
    "\n",
    "    # Return entry [0,1]\n",
    "    return corr_mat[0,1]"
   ]
  },
  {
   "cell_type": "code",
   "execution_count": 101,
   "metadata": {},
   "outputs": [
    {
     "name": "stdout",
     "output_type": "stream",
     "text": [
      "0.79\n"
     ]
    }
   ],
   "source": [
    "# Compute Pearson correlation coefficient for I. versicolor: r\n",
    "r=pearson_r(versicolor_petal_length,versicolor_petal_width)\n",
    "\n",
    "# Print the result\n",
    "print(np.round(r,2))"
   ]
  }
 ],
 "metadata": {
  "kernelspec": {
   "display_name": "Python 3",
   "language": "python",
   "name": "python3"
  },
  "language_info": {
   "codemirror_mode": {
    "name": "ipython",
    "version": 3
   },
   "file_extension": ".py",
   "mimetype": "text/x-python",
   "name": "python",
   "nbconvert_exporter": "python",
   "pygments_lexer": "ipython3",
   "version": "3.6.3"
  }
 },
 "nbformat": 4,
 "nbformat_minor": 2
}
